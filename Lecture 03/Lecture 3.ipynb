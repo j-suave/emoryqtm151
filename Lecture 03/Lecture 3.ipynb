{
 "cells": [
  {
   "attachments": {},
   "cell_type": "markdown",
   "metadata": {},
   "source": [
    "# <span style=\"color:darkblue\"> Lecture 3: Mathematical Operations and Random Numbers </span>"
   ]
  },
  {
   "attachments": {},
   "cell_type": "markdown",
   "metadata": {},
   "source": [
    "<font size=\"5\"> \n",
    "\n",
    "In the previous class we:\n",
    "- Introduced lists and variable types\n",
    "- Talked about how to extract elements from a list"
   ]
  },
  {
   "attachments": {},
   "cell_type": "markdown",
   "metadata": {},
   "source": [
    "<font size=\"5\"> \n",
    "\n",
    "In this class we will:\n",
    "\n",
    "- Introduce a library for general mathematical operations\n",
    "- Generate random numbers\n",
    "- (Optional) Matrix operations"
   ]
  },
  {
   "attachments": {},
   "cell_type": "markdown",
   "metadata": {},
   "source": [
    "## <span style=\"color:darkblue\"> I. Import Libraries </span>"
   ]
  },
  {
   "cell_type": "code",
   "execution_count": 1,
   "metadata": {},
   "outputs": [],
   "source": [
    "# the \"numPy\" library is used for mathematical operations\n",
    "# the \"matplotlib\" library is for generating graphs\n",
    "\n",
    "import numpy as np\n",
    "import matplotlib.pyplot as plt\n"
   ]
  },
  {
   "attachments": {},
   "cell_type": "markdown",
   "metadata": {},
   "source": [
    "##  <span style=\"color:darkblue\"> II. Numbers and Functions </span>"
   ]
  },
  {
   "attachments": {},
   "cell_type": "markdown",
   "metadata": {},
   "source": [
    "<font size = \"5\" >\n",
    "Examples of numPy numbers"
   ]
  },
  {
   "cell_type": "code",
   "execution_count": 2,
   "metadata": {},
   "outputs": [
    {
     "data": {
      "text/plain": [
       "3.141592653589793"
      ]
     },
     "execution_count": 2,
     "metadata": {},
     "output_type": "execute_result"
    }
   ],
   "source": [
    "# Computes \"pi\" (3.14...)\n",
    "\n",
    "np.pi"
   ]
  },
  {
   "attachments": {},
   "cell_type": "markdown",
   "metadata": {},
   "source": [
    "<font size = \"5\" >\n",
    "\n",
    "Examples of numPy functions\n",
    "\n",
    "$ ln(x), e^x, sin(x), cos(x), \\sqrt{x}$"
   ]
  },
  {
   "cell_type": "code",
   "execution_count": 3,
   "metadata": {},
   "outputs": [
    {
     "name": "stdout",
     "output_type": "stream",
     "text": [
      "0.0\n",
      "2.718281828459045\n",
      "0.8414709848078965\n",
      "0.5403023058681398\n",
      "1.0\n"
     ]
    }
   ],
   "source": [
    "# log(x) computes the logarithm with base \"e\" (Euler constant)\n",
    "# exp(x) compute the Euler constant raised to the power of \"x\"\n",
    "# sing(x) computes the sine of x\n",
    "# cos(x) computes the cosine of x\n",
    "# In this example, we're substituting x = 1\n",
    "\n",
    "print(np.log(1))\n",
    "print(np.exp(1))\n",
    "print(np.sin(1))\n",
    "print(np.cos(1))\n",
    "print(np.sqrt(1))"
   ]
  },
  {
   "attachments": {},
   "cell_type": "markdown",
   "metadata": {},
   "source": [
    "<font size = \"5\">\n",
    "\n",
    "Try it yourself!\n",
    "\n",
    "- Create a new variable, $x = 5$\n",
    "- Compute $\\pi x^2$\n",
    "- Compute $ \\frac{1}{\\sqrt{2\\pi}}e^{-x^2} $"
   ]
  },
  {
   "cell_type": "code",
   "execution_count": 4,
   "metadata": {},
   "outputs": [
    {
     "name": "stdout",
     "output_type": "stream",
     "text": [
      "78.53981633974483\n"
     ]
    },
    {
     "data": {
      "text/plain": [
       "625.9195357645382"
      ]
     },
     "execution_count": 4,
     "metadata": {},
     "output_type": "execute_result"
    }
   ],
   "source": [
    "# Include your answer here:\n",
    "\n",
    "x = 5\n",
    "x\n",
    "print(np.pi * np.power(x,2))\n",
    "(x**4) + np.sin(x)**2 #(x^4) + (sin(x)^2)\n"
   ]
  },
  {
   "attachments": {},
   "cell_type": "markdown",
   "metadata": {},
   "source": [
    "##  <span style=\"color:darkblue\"> III. Vector Arrays </span>"
   ]
  },
  {
   "attachments": {},
   "cell_type": "markdown",
   "metadata": {},
   "source": [
    "<font size = \"5\">\n",
    "Create an array from a list\n",
    "\n",
    "$ \\text{ }$\n",
    "$ a = \\begin{pmatrix} 1 \\\\ 2 \\\\ 3 \\end{pmatrix}\n",
    "\\qquad b = \\begin{pmatrix} 0 \\\\ 1 \\\\ 0\\end{pmatrix}\n",
    "\\qquad c = \\begin{pmatrix} 10 \\\\ 100 \\\\ 1000 \\\\ 2000 \\\\ 5000 \\end{pmatrix} \n",
    "\\qquad d = \\begin{pmatrix} 4 \\\\ 2 \\end{pmatrix} $"
   ]
  },
  {
   "cell_type": "code",
   "execution_count": 5,
   "metadata": {},
   "outputs": [],
   "source": [
    "# You create an array by converting a list [1,2,3] to a numeric object\n",
    "# \"array\" is a subfunction of the library numPy.\n",
    "\n",
    "vec_a  = np.array([1,2,3])\n",
    "vec_b  = np.array([0,1,0])\n",
    "vec_c  = np.array([10,100,1000,2000,5000])\n",
    "vec_d  = np.array([4,2])\n"
   ]
  },
  {
   "attachments": {},
   "cell_type": "markdown",
   "metadata": {},
   "source": [
    "<font size = \"5\">\n",
    "\n",
    "Accessing an element of an array"
   ]
  },
  {
   "cell_type": "code",
   "execution_count": 6,
   "metadata": {},
   "outputs": [
    {
     "name": "stdout",
     "output_type": "stream",
     "text": [
      "1\n",
      "3\n",
      "2\n"
     ]
    }
   ],
   "source": [
    "# Arrays, like lists, start their numbering at zero.\n",
    "# You also access them with square brackets\n",
    "\n",
    "print(vec_a[0])\n",
    "print(vec_a[2])\n",
    "print(vec_a[1])\n"
   ]
  },
  {
   "attachments": {},
   "cell_type": "markdown",
   "metadata": {},
   "source": [
    "<font size = \"5\">\n",
    "Operations with a single array and a scalar"
   ]
  },
  {
   "attachments": {},
   "cell_type": "markdown",
   "metadata": {},
   "source": [
    "<font size = \"5\">\n",
    "\n",
    "$ a + 2 = \\begin{pmatrix} a_1 + 2 \\\\ a_2 + 2 \\\\ a_3 + 2 \\end{pmatrix}$"
   ]
  },
  {
   "cell_type": "code",
   "execution_count": 7,
   "metadata": {},
   "outputs": [
    {
     "name": "stdout",
     "output_type": "stream",
     "text": [
      "[2 4 6]\n",
      "[0.5 1.  1.5]\n",
      "[3 4 5]\n",
      "[1 4 9]\n"
     ]
    }
   ],
   "source": [
    "# A scalar refers to either an integer or float\n",
    "# We can do many common operations with \n",
    "\n",
    "print(vec_a * 2)\n",
    "print(vec_a / 2)\n",
    "print(vec_a + 2)\n",
    "print(vec_a ** 2)"
   ]
  },
  {
   "attachments": {},
   "cell_type": "markdown",
   "metadata": {},
   "source": [
    "<font size = \"5\">\n",
    "Element-by-element addition between two arrays of the same size\n",
    "\n",
    "$\\text{ }$\n",
    "\n",
    "$ a + b = \\begin{pmatrix} a_1 \\\\ a_2 \\\\ a_3 \\end{pmatrix} +\n",
    "          \\begin{pmatrix} b_1 \\\\ b_2 \\\\ b_3 \\end{pmatrix} =\n",
    "          \\begin{pmatrix} a_1 + b_1 \\\\ a_2 + b_2 \\\\ a_3 + b_3 \\end{pmatrix}$"
   ]
  },
  {
   "cell_type": "code",
   "execution_count": 8,
   "metadata": {},
   "outputs": [
    {
     "name": "stdout",
     "output_type": "stream",
     "text": [
      "[1 3 3]\n"
     ]
    }
   ],
   "source": [
    "# When you add two arrays of the same size,\n",
    "# Python adds the individual elements in each position\n",
    "\n",
    "print(vec_a + vec_b)\n"
   ]
  },
  {
   "attachments": {},
   "cell_type": "markdown",
   "metadata": {},
   "source": [
    "<font size =\"5\">\n",
    "\n",
    "The default multiplication option is element-by element:\n",
    "\n",
    "$ a * b = \\begin{pmatrix} a_1 * b_1 \\\\ a_2 * b_2 \\\\ a_3 * b_3 \\end{pmatrix}$"
   ]
  },
  {
   "cell_type": "code",
   "execution_count": 9,
   "metadata": {},
   "outputs": [
    {
     "name": "stdout",
     "output_type": "stream",
     "text": [
      "[0 2 0]\n",
      "2\n",
      "[1 1 3]\n",
      "[inf  2. inf]\n"
     ]
    },
    {
     "name": "stderr",
     "output_type": "stream",
     "text": [
      "/var/folders/mh/ydcx9nwx56qc26djm825tjf40000gn/T/ipykernel_93746/2989090257.py:9: RuntimeWarning: divide by zero encountered in true_divide\n",
      "  print(vec_a / vec_b) # does not work since you are dividing by zero (says inf)\n"
     ]
    }
   ],
   "source": [
    "# We can do other similar element-by-element operations\n",
    "# such as multiplication, subtraction, and division.\n",
    "\n",
    "print(vec_a * vec_b)\n",
    "\n",
    "print(np.dot(vec_a, vec_b))\n",
    "\n",
    "print(vec_a - vec_b)\n",
    "print(vec_a / vec_b) # does not work since you are dividing by zero (says inf)\n",
    "\n",
    "#print(vec_a - vec_b)\n",
    "#print(vec_a / vec_b)\n"
   ]
  },
  {
   "attachments": {},
   "cell_type": "markdown",
   "metadata": {},
   "source": [
    "<font size = \"5\">\n",
    "Summary statistics of an array"
   ]
  },
  {
   "cell_type": "code",
   "execution_count": 10,
   "metadata": {},
   "outputs": [
    {
     "name": "stdout",
     "output_type": "stream",
     "text": [
      "2.0\n",
      "0.816496580927726\n",
      "1\n",
      "2.0\n",
      "3\n"
     ]
    }
   ],
   "source": [
    "# The function np.mean() computes the mean of an array\n",
    "# We can do similar operations for the standard deviation (std),\n",
    "# the minimum (min), the median (median), and the maximum (max).\n",
    "\n",
    "print(np.mean(vec_a))\n",
    "print(np.std(vec_a))\n",
    "print(np.min(vec_a))\n",
    "print(np.median(vec_a))\n",
    "print(np.max(vec_a))"
   ]
  },
  {
   "attachments": {},
   "cell_type": "markdown",
   "metadata": {},
   "source": [
    "<font size = \"5\">\n",
    "\n",
    "Try it yourself! Compute the mean of\n",
    "\n",
    "\n",
    "$ e = \\begin{pmatrix} 10 \\\\ 8 \\\\ 15 \\\\ 0 \\\\ 24 \\end{pmatrix} $"
   ]
  },
  {
   "cell_type": "code",
   "execution_count": 11,
   "metadata": {},
   "outputs": [
    {
     "name": "stdout",
     "output_type": "stream",
     "text": [
      "[10  8 15  0 34]\n",
      "13.4\n",
      "[19 44  7 42]\n",
      "44\n"
     ]
    }
   ],
   "source": [
    "# Create your own array and compute any of the above summary statistics\n",
    "\n",
    "e_array = np.array([10, 8, 15, 0, 34])\n",
    "print(e_array)\n",
    "print(np.mean(e_array))\n",
    "\n",
    "f_array = np.array([19, 44, 7, 42])\n",
    "print(f_array)\n",
    "print(np.max(f_array))\n",
    "\n",
    "\n",
    "\n"
   ]
  },
  {
   "attachments": {},
   "cell_type": "markdown",
   "metadata": {},
   "source": [
    "<font size = \"5\">\n",
    "<span style=\"color:red\"> Common Pitfall </span>: Make sure that the arrays have the same size"
   ]
  },
  {
   "cell_type": "code",
   "execution_count": 12,
   "metadata": {},
   "outputs": [],
   "source": [
    "# Here I try to combine two arrays of different size.\n",
    "\n",
    "# vec_a + vec_c (does not work)"
   ]
  },
  {
   "attachments": {},
   "cell_type": "markdown",
   "metadata": {},
   "source": [
    "##  <span style=\"color:darkblue\"> IV. Random Numbers </span>\n",
    "\n",
    "<font size = \"5\">\n",
    "\n",
    "Why randomness?\n",
    "\n",
    "- Simulate different scenarios: high risk or low risk\n",
    "- Study properties of a complex system and/or estimator\n",
    "- In medicine, randomly assign subjects to treatment or control"
   ]
  },
  {
   "attachments": {},
   "cell_type": "markdown",
   "metadata": {},
   "source": [
    "<font size = \"5\">\n",
    "\n",
    "Create a vector of random variables"
   ]
  },
  {
   "cell_type": "code",
   "execution_count": 13,
   "metadata": {},
   "outputs": [
    {
     "name": "stdout",
     "output_type": "stream",
     "text": [
      "[-0.18241369 -0.45894736  1.55236823 -0.6641247   0.07675776  1.49127027\n",
      " -0.59459131 -2.64908731  0.20486054  0.6018836 ]\n"
     ]
    }
   ],
   "source": [
    "# This code creates a vector of random variables \n",
    "# generated from a normal distribution with\n",
    "# mean \"loc\" (location) the point where the distribution is centered (mean) and standard deviation \"scale\"\n",
    "# the number of distinct variables is \"size\" (how many integers you want, length)\n",
    "\n",
    "randomvar_a = np.random.normal(loc=0, scale=1, size=10)\n",
    "print(randomvar_a)"
   ]
  },
  {
   "attachments": {},
   "cell_type": "markdown",
   "metadata": {},
   "source": [
    "<font size = \"5\">\n",
    "\n",
    "Random numbers differ every time!\n",
    "\n",
    "- Avoid this problem by drawing from a \"pregenerated\" set.\n",
    "- This is called a seed"
   ]
  },
  {
   "cell_type": "code",
   "execution_count": 14,
   "metadata": {},
   "outputs": [
    {
     "name": "stdout",
     "output_type": "stream",
     "text": [
      "[-0.20470766  0.47894334 -0.51943872 -0.5557303   1.96578057  1.39340583\n",
      "  0.09290788  0.28174615  0.76902257  1.24643474]\n"
     ]
    }
   ],
   "source": [
    "# Your computer will typically generate different numbers every time you run a command\n",
    "# However, sometimes you want to be able to replicate the results\n",
    "# You can choose any other number instead of \"12345\". This will produce another set\n",
    "# of random numbers, but they will give the same answers\n",
    "\n",
    "np.random.seed(12345) #can use one number or seven does not matter just pick a seed\n",
    "\n",
    "random_var_b = np.random.normal(loc=0, scale=1, size=10)\n",
    "print(random_var_b)"
   ]
  },
  {
   "attachments": {},
   "cell_type": "markdown",
   "metadata": {},
   "source": [
    "<font size = \"5\">\n",
    "\n",
    "Compute a histogram with the results"
   ]
  },
  {
   "cell_type": "code",
   "execution_count": 15,
   "metadata": {},
   "outputs": [
    {
     "data": {
      "text/plain": [
       "Text(0, 0.5, 'Frequency')"
      ]
     },
     "execution_count": 15,
     "metadata": {},
     "output_type": "execute_result"
    },
    {
     "data": {
      "image/png": "[encoded data removed]",
      "text/plain": [
       "<Figure size 640x480 with 1 Axes>"
      ]
     },
     "metadata": {},
     "output_type": "display_data"
    }
   ],
   "source": [
    "# Compute a histogram\n",
    "# You can edit the number of bins with plt.hist(x = randomvar_a)\n",
    "\n",
    "randomvar_x = np.random.normal(loc=0, scale=1, size=10)\n",
    "\n",
    "plt.hist(x = randomvar_x)\n",
    "plt.xlabel(\"Variable a\")\n",
    "plt.ylabel(\"Frequency\")"
   ]
  },
  {
   "attachments": {},
   "cell_type": "markdown",
   "metadata": {},
   "source": [
    "<font size = \"5\">\n",
    "\n",
    "Try this again with $size = 100, 1000, 10000$"
   ]
  },
  {
   "cell_type": "markdown",
   "metadata": {},
   "source": []
  },
  {
   "cell_type": "code",
   "execution_count": 16,
   "metadata": {},
   "outputs": [
    {
     "data": {
      "image/png": "[encoded data removed]",
      "text/plain": [
       "<Figure size 640x480 with 1 Axes>"
      ]
     },
     "metadata": {},
     "output_type": "display_data"
    }
   ],
   "source": [
    "# Write the code for your histogram\n",
    "my_randomvar_x = np.random.normal(loc=100, scale = 1000, size = 10000)\n",
    "\n",
    "plt.hist(x = my_randomvar_x)\n",
    "plt.xlabel(\"Variable B\")\n",
    "plt.ylabel(\"Frequency\")\n",
    "plt.title(\"A Graph that Shows the Frequency of Variable B\")\n",
    "plt.show()\n",
    "\n"
   ]
  },
  {
   "attachments": {},
   "cell_type": "markdown",
   "metadata": {},
   "source": [
    "# <span style=\"color:darkblue\"> Additional Resources </span>\n",
    "\n",
    "<font size=\"5\"> \n",
    "\n",
    "Check out additional examples at:\n",
    "\n",
    "- https://allendowney.github.io/ElementsOfDataScience/03_arrays.html\n",
    "\n"
   ]
  },
  {
   "attachments": {},
   "cell_type": "markdown",
   "metadata": {},
   "source": [
    "# <span style=\"color:darkblue\"> (Optional) Matrix Operations </span>\n",
    "\n",
    "<font size=\"5\"> \n"
   ]
  },
  {
   "attachments": {},
   "cell_type": "markdown",
   "metadata": {},
   "source": [
    "<font size = \"5\">\n",
    "Creating a matrix by stacking different rows\n",
    "\n",
    "$ \\text{ }$\n",
    "\n",
    "$ X = \\begin{pmatrix} 1 & 2 & 3 \\\\ \n",
    "                       0 & 4 & 5 \\\\\n",
    "                       0 & 0 & 6\n",
    "                       \\end{pmatrix} $"
   ]
  },
  {
   "cell_type": "code",
   "execution_count": 17,
   "metadata": {},
   "outputs": [
    {
     "name": "stdout",
     "output_type": "stream",
     "text": [
      "[[1 2 3]\n",
      " [0 4 5]\n",
      " [0 0 6]]\n"
     ]
    }
   ],
   "source": [
    "# Matrices are usually denoted by capital letters\n",
    "# The object [[1,2,3],[4,5,6],[7,8,9]] is a list of lists\n",
    "# It's useful to maintain this notation in the code as well\n",
    "\n",
    "X = np.array([[1,2,3],[0,4,5],[0,0,6]])\n",
    "print(X)"
   ]
  },
  {
   "attachments": {},
   "cell_type": "markdown",
   "metadata": {},
   "source": [
    "<font size = \"5\">\n",
    "Creating a matrix by stacking different columns\n",
    "\n",
    "$ \\text{ } $\n",
    "\n",
    "$ Y = \\begin{pmatrix} 1 & 2 \\\\ 0 & 1 \\\\ 1 & 0 \\end{pmatrix}$"
   ]
  },
  {
   "cell_type": "code",
   "execution_count": 18,
   "metadata": {},
   "outputs": [
    {
     "name": "stdout",
     "output_type": "stream",
     "text": [
      "[[1 2]\n",
      " [0 1]\n",
      " [1 0]]\n"
     ]
    }
   ],
   "source": [
    "# You can also stack columns\n",
    "Y =  np.column_stack([[1,0,1],[2,1,0]])\n",
    "print(Y)"
   ]
  },
  {
   "attachments": {},
   "cell_type": "markdown",
   "metadata": {},
   "source": [
    "<font size = \"5\">\n",
    "Transpose\n",
    "\n",
    "$ \\text{ }$\n",
    "\n",
    "$ Y' = \\begin{pmatrix}  1 & 0 & 1 \\\\ 2 & 1 & 0  \\end{pmatrix} $"
   ]
  },
  {
   "cell_type": "code",
   "execution_count": 19,
   "metadata": {},
   "outputs": [
    {
     "data": {
      "text/plain": [
       "array([[1, 0, 1],\n",
       "       [2, 1, 0]])"
      ]
     },
     "execution_count": 19,
     "metadata": {},
     "output_type": "execute_result"
    }
   ],
   "source": [
    "# Matrix Transpose\n",
    "np.matrix.transpose(Y)"
   ]
  },
  {
   "attachments": {},
   "cell_type": "markdown",
   "metadata": {},
   "source": [
    "<font size = \"5\">\n",
    "\n",
    "Matrix multiplication\n",
    "\n",
    "$ XY = \\begin{pmatrix} 1 & 2 & 3 \\\\ \n",
    "                       0 & 4 & 5 \\\\\n",
    "                       0 & 0 & 6\n",
    "                       \\end{pmatrix}\n",
    "                       \\begin{pmatrix} 1 & 2 \\\\ 0 & 1 \\\\ 1 & 0 \\end{pmatrix} = \n",
    "        \\begin{pmatrix} 4 & 4 \\\\ 5 & 4 \\\\ 6 & 0 \\end{pmatrix} $"
   ]
  },
  {
   "cell_type": "code",
   "execution_count": 20,
   "metadata": {},
   "outputs": [
    {
     "data": {
      "text/plain": [
       "array([[4, 4],\n",
       "       [5, 4],\n",
       "       [6, 0]])"
      ]
     },
     "execution_count": 20,
     "metadata": {},
     "output_type": "execute_result"
    }
   ],
   "source": [
    "# Matrix Multiplication\n",
    "\n",
    "np.matmul(X,Y)"
   ]
  },
  {
   "attachments": {},
   "cell_type": "markdown",
   "metadata": {},
   "source": [
    "<font size = \"5\">\n",
    "\n",
    "Matrix inverse\n",
    "\n",
    "$ X^{-1} = \\begin{pmatrix} 1 & 2 & 3 \\\\ \n",
    "                       0 & 4 & 5 \\\\\n",
    "                       0 & 0 & 6\n",
    "                       \\end{pmatrix}^{-1} $"
   ]
  },
  {
   "cell_type": "code",
   "execution_count": 21,
   "metadata": {},
   "outputs": [
    {
     "name": "stdout",
     "output_type": "stream",
     "text": [
      "23.999999999999993\n",
      "[[ 1.         -0.5        -0.08333333]\n",
      " [ 0.          0.25       -0.20833333]\n",
      " [ 0.          0.          0.16666667]]\n"
     ]
    }
   ],
   "source": [
    "# Check the determinant of a matrix (a matrix is invertible if the determinant is not zero)\n",
    "print(np.linalg.det(X))\n",
    "\n",
    "# Matrix inverse\n",
    "# The following command stands for linear algebrar inverse.\n",
    "X_inv = np.linalg.inv(X)\n",
    "\n",
    "# Output the result\n",
    "print(X_inv)\n"
   ]
  },
  {
   "attachments": {},
   "cell_type": "markdown",
   "metadata": {},
   "source": [
    "<font size = \"5\">\n",
    "\n",
    "Try it yourself! Check that this is indeed an inverse:\n",
    "\n",
    "$X X_{inv} = \\begin{pmatrix} 1 & 0 & 0 \\\\ 0 & 1 & 0 \\\\ 0 & 0 & 1 \\end{pmatrix}$"
   ]
  },
  {
   "cell_type": "code",
   "execution_count": 22,
   "metadata": {},
   "outputs": [
    {
     "data": {
      "text/plain": [
       "array([[1., 0., 0.],\n",
       "       [0., 1., 0.],\n",
       "       [0., 0., 1.]])"
      ]
     },
     "execution_count": 22,
     "metadata": {},
     "output_type": "execute_result"
    }
   ],
   "source": [
    "# Multiply \"X\" times \"X_inv\" using the command shown above\n",
    "# Note: Sometimes the result is shown in scientific notation.\n",
    "\n",
    "np.matmul(X,X_inv)"
   ]
  }
 ],
 "metadata": {
  "kernelspec": {
   "display_name": "base",
   "language": "python",
   "name": "python3"
  },
  "language_info": {
   "codemirror_mode": {
    "name": "ipython",
    "version": 3
   },
   "file_extension": ".py",
   "mimetype": "text/x-python",
   "name": "python",
   "nbconvert_exporter": "python",
   "pygments_lexer": "ipython3",
   "version": "3.9.13"
  },
  "orig_nbformat": 4,
  "vscode": {
   "interpreter": {
    "hash": "833283965988f4ccc9911a6c6cfe018c1905de821e65851f310de36fd64a7093"
   }
  }
 },
 "nbformat": 4,
 "nbformat_minor": 2
}
