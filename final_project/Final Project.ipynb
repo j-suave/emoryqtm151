{
 "cells": [
  {
   "attachments": {},
   "cell_type": "markdown",
   "metadata": {},
   "source": [
    "<span style=\"color:purple\">   <font size = \"10\"> QTM151 Final Group Project \n",
    "\n",
    "<span style=\"color:black\"> <font size = \"5\"> Class 1480 - Section 4\n",
    "\n",
    "<span style=\"color:black\"> <font size = \"5\"> Group Members: Rohan Patel, John Jaquez, Jairo Polanco"
   ]
  }
 ],
 "metadata": {
  "kernelspec": {
   "display_name": "base",
   "language": "python",
   "name": "python3"
  },
  "language_info": {
   "name": "python",
   "version": "3.9.13"
  },
  "orig_nbformat": 4
 },
 "nbformat": 4,
 "nbformat_minor": 2
}
