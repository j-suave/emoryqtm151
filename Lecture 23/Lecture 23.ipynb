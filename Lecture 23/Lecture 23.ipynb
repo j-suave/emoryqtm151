{
 "cells": [
  {
   "attachments": {},
   "cell_type": "markdown",
   "metadata": {},
   "source": [
    "# <span style=\"color:darkblue\"> Lecture 23 - Practicing Time and Plots  </span>\n",
    "\n",
    "<font size = \"5\">\n",
    "\n",
    "In  this lecture we will practice working with time in Python\n",
    "\n",
    "- There will be a quiz on this lecture\n"
   ]
  },
  {
   "attachments": {},
   "cell_type": "markdown",
   "metadata": {},
   "source": [
    "# <span style=\"color:darkblue\"> I. Review of time commands </span>\n",
    "\n",
    "<font size = \"5\">\n",
    "\n",
    "Line plot: $\\qquad \\qquad \\qquad \\quad \\ $ ``` plt.plot() ```\n",
    "\n",
    "Parse string column to date: $\\ $``` pd.to_datetime(data_column,format)```\n",
    "\n",
    "Date to string:  $\\qquad \\qquad \\quad \\ $ ```.dt.strftime(format)```\n",
    "\n",
    "Group by time period:\n",
    "$\\qquad \\ \\ $ ``` pd.Grouper(key='date', freq='m')```\n",
    "\n",
    "Include group as column: $\\quad$ ```.reset_index()```\n",
    "\n",
    "Difference between periods: $\\ $``` .diff() ```\n",
    "\n",
    "Lag a periods: $\\qquad \\qquad \\quad \\ $ ``` .shift(1) ```\n",
    "\n",
    "Between two periods (bool): $\\ $ ```.between(\"date1\",\"date2\")```\n",
    "\n",
    "Convert wide to long: $\\qquad \\quad $ ``` pd.melt(...) ```\n",
    "\n",
    "Convert long to wide: $\\qquad \\quad $ ``` pd.pivot(...) ```"
   ]
  },
  {
   "attachments": {},
   "cell_type": "markdown",
   "metadata": {},
   "source": [
    "## <span style=\"color:darkblue\"> II. Quiz Structure </span>\n",
    "\n",
    "<font size = \"5\">\n",
    "\n",
    "The day of the quiz I will ...\n",
    "- Provide a dataset with information\n",
    "- Give more specific instructions.\n",
    "- Below, you will see the type of questions that will be asked.\n",
    "- The idea is for you to apply known concepts to new data\n",
    "- You have 50 minutes to complete the assignment\n",
    "\n",
    "Questions\n",
    "\n",
    "(exact wording may change in quiz, but exercise will be very similar)\n",
    "\n",
    "The quiz will use a time series dataset\n"
   ]
  },
  {
   "attachments": {},
   "cell_type": "markdown",
   "metadata": {},
   "source": [
    "\n",
    "<font size = \"5\">\n",
    "\n",
    "(a) Import a dataset, parse date column using wildcards <br>\n",
    "$\\quad$ (see Lecture 21), and sort dataset\n",
    "\n",
    "\n"
   ]
  },
  {
   "cell_type": "code",
   "execution_count": null,
   "metadata": {},
   "outputs": [],
   "source": [
    "\n",
    "import pandas as pd\n",
    "import matplotlib.pyplot as plt\n",
    "import matplotlib.dates as mdates\n",
    "from datetime import date, time, datetime\n",
    "\n",
    "#import\n",
    "financial = pd.read_csv ( \"data_raw/financial.csv\" )\n",
    "\n",
    "#parse\n",
    "financial [ \"date\" ]    = pd.to_datetime ( financial [ \"date_str\" ] , format = \"%Y-%m-%d\" )\n",
    "financial               = financial.sort_values ( \"date\" , ascending = True )\n"
   ]
  },
  {
   "attachments": {},
   "cell_type": "markdown",
   "metadata": {},
   "source": [
    "<font size = \"5\">\n",
    "\n",
    "(b) Line plots from multiple columns with a legend\n"
   ]
  },
  {
   "cell_type": "code",
   "execution_count": null,
   "metadata": {},
   "outputs": [],
   "source": [
    "\n",
    "# line plots with multiple columns (sp500 & djia)\n",
    "financial [ [ \"date\" , \"sp500\" , \"djia\" ] ].set_index( \"date\" ).plot ( ) # double brackets: one to denote subset another to call list\n",
    "plt.xlabel ( \"Time\" )\n",
    "plt.ylabel ( \"Value of Index Funds\" )\n",
    "# legend\n",
    "plt.legend ( [ \"S&P 500\",\"Dow Jones\" ] )\n"
   ]
  },
  {
   "attachments": {},
   "cell_type": "markdown",
   "metadata": {},
   "source": [
    "<font size = \"5\">\n",
    "\n",
    "(c) Compute growth rates for a time series"
   ]
  },
  {
   "cell_type": "code",
   "execution_count": null,
   "metadata": {},
   "outputs": [],
   "source": [
    "\n",
    "# compute difference\n",
    "financial [ \"diff_sp500\" ] = financial [ \"sp500\" ].diff ( )\n",
    "display ( financial [ [ \"sp500\", \"diff_sp500\" ] ] )\n",
    "\n",
    "# find lag to get growth\n",
    "financial [ \"lag_sp500\" ]    = financial[ \"sp500\" ].shift ( 1 )\n",
    "financial [ \"growth_sp500\" ] = financial [ \"diff_sp500\" ] * 100 / financial [ \"lag_sp500\" ]\n",
    "\n",
    "display ( financial [ [ \"sp500\" , \"lag_sp500\" , \"diff_sp500\" , \"growth_sp500\" ] ] )\n",
    "\n",
    "# additional materials\n",
    "\n",
    "# find difference between time ( days )\n",
    "# financial [ \"diff_date\" ]  = financial [ \"date\" ] - financial [ \"date\" ].shift ( 1 )\n",
    "# financial [ \"count_days\" ] = financial [ \"diff_date\" ].dt.days\n",
    "\n",
    "# plot growth\n",
    "# plt.plot( \"date\" , \"growth_sp500\" ,\n",
    "          # data = financial.sort_values ( \"date\", ascending = True ) )\n",
    "# plt.xlabel ( \"Time\" )\n",
    "# plt.ylabel ( \"Daily percentage change\" )\n",
    "# plt.title ( \"Change in the S&P 500 Index\" )\n"
   ]
  },
  {
   "attachments": {},
   "cell_type": "markdown",
   "metadata": {},
   "source": [
    "<font size = \"5\">\n",
    "\n",
    "(d) Flag a subset of the data and produce a shaded plot <br>\n",
    "$\\quad$ as in Lecture 22\n",
    "\n"
   ]
  },
  {
   "cell_type": "code",
   "execution_count": null,
   "metadata": {},
   "outputs": [],
   "source": [
    "\n",
    "# flag observation by creation bool statement\n",
    "\n",
    "financial[ \"positive_djia\" ] = financial[ \"growth_djia\" ] > 4\n",
    "financial[ \"negative_djia\" ] = financial[ \"growth_djia\" ] < -4\n",
    "\n",
    "\n",
    "plt.plot    ( \"date\", \"growth_djia\", data = financial )\n",
    "plt.xlabel  ( \"Time\" )\n",
    "plt.ylabel  ( \"Daily percentage change \" )\n",
    "plt.title   ( \"Extreme Indexes of The Dow Jones\" )\n",
    "\n",
    "vec_y = financial[ \"growth_djia\" ]\n",
    "plt.fill_between ( x= financial [ \"date\" ],\n",
    "                 y1 = vec_y.min (),\n",
    "                 y2 = vec_y.max (),\n",
    "                 where = financial [ \"positive_djia\" ] | financial [ \"negative_djia\" ] ,\n",
    "                 alpha = 0.2, color = \"red\" )\n",
    "\n",
    "plt.show()\n"
   ]
  },
  {
   "attachments": {},
   "cell_type": "markdown",
   "metadata": {},
   "source": [
    "<font size = \"5\">\n",
    "\n",
    "(e) Compute aggregate dataset by time period\n",
    "\n"
   ]
  },
  {
   "cell_type": "code",
   "execution_count": 6,
   "metadata": {},
   "outputs": [
    {
     "data": {
      "text/plain": [
       "Text(0.5, 1.0, 'Monthly average stock market performance')"
      ]
     },
     "execution_count": 6,
     "metadata": {},
     "output_type": "execute_result"
    },
    {
     "data": {
      "image/png": "[encoded data removed]",
      "text/plain": [
       "<Figure size 640x480 with 1 Axes>"
      ]
     },
     "metadata": {},
     "output_type": "display_data"
    }
   ],
   "source": [
    "\n",
    "# configure data by time period\n",
    "month_config = pd.Grouper( key = 'date', freq = 'm' )\n",
    "\n",
    "# aggregate by period\n",
    "monthlydata = ( financial\n",
    "               .groupby( month_config ) \n",
    "               .agg( sp500_mean = ( \"sp500\",\"mean\" ) )\n",
    "               .reset_index ( ) )\n",
    "\n",
    "# plot aggregate data\n",
    "plt.plot( \"date\",\"sp500_mean\" ,\n",
    "          data = monthlydata.sort_values ( \"date\", ascending = True ) )\n",
    "plt.xlabel( \"Time\" )\n",
    "plt.ylabel( \"S&P 500\" )\n",
    "plt.title ( \"Monthly average stock market performance\" ) \n"
   ]
  },
  {
   "attachments": {},
   "cell_type": "markdown",
   "metadata": {},
   "source": [
    "<font size = \"5\">\n",
    "\n",
    "(f) Convert a dataset to long format"
   ]
  },
  {
   "cell_type": "code",
   "execution_count": null,
   "metadata": {},
   "outputs": [],
   "source": [
    "\n",
    "financial_long = pd.melt( financial,\n",
    "                         var_name   = \"portfolio_type\",\n",
    "                         value_name = \"portfolio_value\",\n",
    "                         id_vars    = 'date',\n",
    "                         value_vars = [ 'sp500','djia' ] )\n"
   ]
  }
 ],
 "metadata": {
  "kernelspec": {
   "display_name": "base",
   "language": "python",
   "name": "python3"
  },
  "language_info": {
   "codemirror_mode": {
    "name": "ipython",
    "version": 3
   },
   "file_extension": ".py",
   "mimetype": "text/x-python",
   "name": "python",
   "nbconvert_exporter": "python",
   "pygments_lexer": "ipython3",
   "version": "3.9.13"
  },
  "orig_nbformat": 4
 },
 "nbformat": 4,
 "nbformat_minor": 2
}
