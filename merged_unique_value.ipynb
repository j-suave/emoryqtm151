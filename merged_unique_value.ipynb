{
 "cells": [
  {
   "cell_type": "markdown",
   "source": [
    "#### Set Up"
   ],
   "metadata": {
    "collapsed": false
   }
  },
  {
   "cell_type": "code",
   "execution_count": 16,
   "outputs": [],
   "source": [
    "import pandas as pd\n",
    "import os\n",
    "import warnings\n",
    "warnings.filterwarnings('ignore')"
   ],
   "metadata": {
    "collapsed": false,
    "ExecuteTime": {
     "end_time": "2023-07-18T09:17:21.399409900Z",
     "start_time": "2023-07-18T09:17:21.335411800Z"
    }
   }
  },
  {
   "cell_type": "markdown",
   "source": [
    "#### COA"
   ],
   "metadata": {
    "collapsed": false
   }
  },
  {
   "cell_type": "code",
   "execution_count": 17,
   "outputs": [],
   "source": [
    "folder_path = '../CityOfAtlanta/Permits'"
   ],
   "metadata": {
    "collapsed": false,
    "ExecuteTime": {
     "end_time": "2023-07-18T09:17:21.437411200Z",
     "start_time": "2023-07-18T09:17:21.350409900Z"
    }
   }
  },
  {
   "cell_type": "code",
   "execution_count": 18,
   "outputs": [
    {
     "name": "stdout",
     "output_type": "stream",
     "text": [
      "Error reading file ResidentialQCR 2020.csv: Error tokenizing data. C error: EOF inside string starting at row 129\n"
     ]
    }
   ],
   "source": [
    "coa_permit_type = set()\n",
    "coa_description = list()\n",
    "for foldername in os.listdir(folder_path):\n",
    "    coa_permit_type.add(foldername)\n",
    "    sub_folder_path = os.path.join(folder_path, foldername)\n",
    "\n",
    "    for filename in os.listdir(sub_folder_path):\n",
    "        file_path = os.path.join(sub_folder_path, filename)\n",
    "\n",
    "        with open(file_path, 'r') as file:\n",
    "            try:\n",
    "                df = pd.read_csv(file_path, on_bad_lines='skip')\n",
    "                coa_description.append(df['Description'])\n",
    "            except pd.errors.ParserError as e:\n",
    "                print(f\"Error reading file {foldername} {filename}: {str(e)}\")\n",
    "\n",
    "coa_permit_type = list(coa_permit_type)\n",
    "coa_permit_type = [x for x in coa_permit_type if not pd.isna(x)]"
   ],
   "metadata": {
    "collapsed": false,
    "ExecuteTime": {
     "end_time": "2023-07-18T09:17:22.187411200Z",
     "start_time": "2023-07-18T09:17:21.367412300Z"
    }
   }
  },
  {
   "cell_type": "markdown",
   "source": [
    "#### Clayton"
   ],
   "metadata": {
    "collapsed": false
   }
  },
  {
   "cell_type": "code",
   "execution_count": 19,
   "outputs": [],
   "source": [
    "folder_path = '../Clayton/Past'"
   ],
   "metadata": {
    "collapsed": false,
    "ExecuteTime": {
     "end_time": "2023-07-18T09:17:22.228436100Z",
     "start_time": "2023-07-18T09:17:22.183429800Z"
    }
   }
  },
  {
   "cell_type": "code",
   "execution_count": 22,
   "outputs": [],
   "source": [
    "job_type_1718 = set()\n",
    "type_job_1718 = set()\n",
    "# clay_permit_type_19 = set()\n",
    "# clay_work_class_19 = set()\n",
    "clay_TYPE_CLASS = set()\n",
    "\n",
    "# Iterate over each file in the folder\n",
    "for filename in os.listdir(folder_path):\n",
    "    file_path = os.path.join(folder_path, filename)\n",
    "\n",
    "    # Check if the current item is a file\n",
    "    if os.path.isfile(file_path):\n",
    "        with open(file_path, 'r') as file:\n",
    "            # Read the contents of the file\n",
    "            df = pd.read_csv(file_path, encoding='latin-1')\n",
    "\n",
    "            if (filename == '2017BuildingPermits.csv') or (filename == '2018BuildingPermits.csv'):\n",
    "                for i in range(len(df)):\n",
    "                    job_type_1718.add(df['Job Type Description'][i])\n",
    "                    type_job_1718.add(df['Type of Job'][i])\n",
    "            else:\n",
    "                df['TYPE_CLASS'] = df['PERMITTYPE'] + '|' + df['WORKCLASS']\n",
    "                for i in range(len(df)):\n",
    "                    # clay_permit_type_19.add(df['PERMITTYPE'][i])\n",
    "                    # clay_work_class_19.add(df['WORKCLASS'][i])\n",
    "                    clay_TYPE_CLASS.add(df['TYPE_CLASS'][i])\n",
    "\n",
    "clay_TYPE_CLASS = list(clay_TYPE_CLASS)\n",
    "clay_TYPE_CLASS = [x for x in clay_TYPE_CLASS if not pd.isna(x)]"
   ],
   "metadata": {
    "collapsed": false,
    "ExecuteTime": {
     "end_time": "2023-07-18T09:18:10.144851900Z",
     "start_time": "2023-07-18T09:18:09.787590600Z"
    }
   }
  },
  {
   "cell_type": "markdown",
   "source": [
    "#### Dekalb"
   ],
   "metadata": {
    "collapsed": false
   }
  },
  {
   "cell_type": "code",
   "execution_count": 23,
   "outputs": [],
   "source": [
    "folder_path = '../Dekalb/CSV for 201808 - current'"
   ],
   "metadata": {
    "collapsed": false,
    "ExecuteTime": {
     "end_time": "2023-07-18T09:18:12.535150300Z",
     "start_time": "2023-07-18T09:18:12.525150700Z"
    }
   }
  },
  {
   "cell_type": "code",
   "execution_count": 24,
   "outputs": [],
   "source": [
    "DK_property_work_type = set()\n",
    "\n",
    "for filename in os.listdir(folder_path):\n",
    "    file_path = os.path.join(folder_path, filename)\n",
    "\n",
    "    # Check if the current item is a file\n",
    "    if os.path.isfile(file_path):\n",
    "        with open(file_path, 'r') as file:\n",
    "            # Read the contents of the file\n",
    "            df = pd.read_csv(file_path, encoding='latin-1')\n",
    "            df['Property_Work_Type'] = df['Property Type'] + '|' + df['Work Type']\n",
    "\n",
    "            for i in range(len(df)):\n",
    "                DK_property_work_type.add(df['Property_Work_Type'][i])\n",
    "\n",
    "DK_property_work_type = list(DK_property_work_type)\n",
    "DK_property_work_type = [x for x in DK_property_work_type if not pd.isna(x)]"
   ],
   "metadata": {
    "collapsed": false,
    "ExecuteTime": {
     "end_time": "2023-07-18T09:18:13.488150900Z",
     "start_time": "2023-07-18T09:18:13.115179400Z"
    }
   }
  },
  {
   "cell_type": "markdown",
   "source": [
    "#### Gwinnett"
   ],
   "metadata": {
    "collapsed": false
   }
  },
  {
   "cell_type": "code",
   "execution_count": 25,
   "outputs": [],
   "source": [
    "folder_path = '../Gwinnett'"
   ],
   "metadata": {
    "collapsed": false,
    "ExecuteTime": {
     "end_time": "2023-07-18T09:18:14.425151300Z",
     "start_time": "2023-07-18T09:18:14.411150Z"
    }
   }
  },
  {
   "cell_type": "code",
   "execution_count": 26,
   "outputs": [],
   "source": [
    "GW_USE_TYPE = set()\n",
    "GW_detailed = set()\n",
    "for foldername in os.listdir(folder_path):\n",
    "    if foldername.endswith('_clean'):\n",
    "        sub_folder_path = os.path.join(folder_path, foldername)\n",
    "\n",
    "        for filename in os.listdir(sub_folder_path):\n",
    "            file_path = os.path.join(sub_folder_path, filename)\n",
    "\n",
    "            with open(file_path, 'r') as file:\n",
    "                # Read the contents of the file\n",
    "                df = pd.read_csv(file_path, encoding='latin-1')\n",
    "                df['GW_USE_TYPE'] = df['COMM/RES'] + ' ' + df['USE'] + '|' + df['TYPE OF WORK']\n",
    "\n",
    "                for i in range(len(df)):\n",
    "                    GW_USE_TYPE.add(df['GW_USE_TYPE'][i])\n",
    "                    GW_detailed.add(df['PERMIT TYPE'][i])\n",
    "\n",
    "GW_USE_TYPE = list(GW_USE_TYPE)\n",
    "GW_USE_TYPE = [x for x in GW_USE_TYPE if not pd.isna(x)]\n",
    "GW_detailed = list(GW_detailed)\n",
    "GW_detailed = [x for x in GW_detailed if not pd.isna(x)]"
   ],
   "metadata": {
    "collapsed": false,
    "ExecuteTime": {
     "end_time": "2023-07-18T09:18:16.487780700Z",
     "start_time": "2023-07-18T09:18:14.868756700Z"
    }
   }
  },
  {
   "cell_type": "markdown",
   "source": [
    "#### Cobb"
   ],
   "metadata": {
    "collapsed": false
   }
  },
  {
   "cell_type": "code",
   "execution_count": 31,
   "outputs": [],
   "source": [
    "folder_path = '../Cobb/Cobb/Permits'"
   ],
   "metadata": {
    "collapsed": false,
    "ExecuteTime": {
     "end_time": "2023-07-18T09:33:23.092283500Z",
     "start_time": "2023-07-18T09:33:23.049913900Z"
    }
   }
  },
  {
   "cell_type": "code",
   "execution_count": 33,
   "outputs": [],
   "source": [
    "CB_Permit_Type = set()\n",
    "\n",
    "for filename in os.listdir(folder_path):\n",
    "    file_path = os.path.join(folder_path, filename)\n",
    "\n",
    "    if os.path.isfile(file_path):\n",
    "        with open(file_path, 'r') as file:\n",
    "            # Read the contents of the file\n",
    "            df = pd.read_csv(file_path, encoding='latin-1')\n",
    "\n",
    "            for i in range(len(df)):\n",
    "                CB_Permit_Type.add(df['permit_type'][i])\n",
    "\n",
    "CB_Permit_Type = list(CB_Permit_Type)\n",
    "CB_Permit_Type = [x for x in CB_Permit_Type if not pd.isna(x)]"
   ],
   "metadata": {
    "collapsed": false,
    "ExecuteTime": {
     "end_time": "2023-07-18T09:33:56.324849700Z",
     "start_time": "2023-07-18T09:33:54.821818700Z"
    }
   }
  },
  {
   "cell_type": "markdown",
   "source": [
    "#### Put into DataFrame"
   ],
   "metadata": {
    "collapsed": false
   }
  },
  {
   "cell_type": "code",
   "execution_count": 39,
   "outputs": [],
   "source": [
    "from itertools import zip_longest\n",
    "merged_unique = pd.DataFrame(zip_longest(coa_permit_type, clay_TYPE_CLASS, DK_property_work_type, GW_USE_TYPE, GW_detailed, CB_Permit_Type, fillvalue=float('nan')), columns=['coa_permit_type', 'clay_TYPE_CLASS', 'DK_property_work_type', 'GW_USE_TYPE', 'GW_detailed', 'CB_Permit_Type'])"
   ],
   "metadata": {
    "collapsed": false,
    "ExecuteTime": {
     "end_time": "2023-07-18T09:37:09.976728700Z",
     "start_time": "2023-07-18T09:37:09.965736400Z"
    }
   }
  },
  {
   "cell_type": "code",
   "execution_count": 40,
   "outputs": [
    {
     "data": {
      "text/plain": "              coa_permit_type                             clay_TYPE_CLASS  \\\n0               CommercialQCR          Electrical Residential Stand Alone   \n1              MultiFamilyNew  Building (Commercial) Office/Institutional   \n2       ResidentialAlteration        Electrical Reconnect_Disconnect Only   \n3   CommercialLandDevelopment         Electrical Power Reconnect - DELETE   \n4  ResidentialLandSubdivision        Building (Residential) New Apartment   \n\n                          DK_property_work_type  \\\n0  Non-Residential Special Admin Permit 14 days   \n1              Residential Residential Gas Line   \n2         Non-Residential Plumbing Water Heater   \n3              Residential Plumbing Supply Line   \n4    Non-Residential Electrical Inspection Only   \n\n                                         GW_USE_TYPE  \\\n0                Residential Sign Complete Structure   \n1                 Residential Duplex Electrical Only   \n2  Online Permitting Commercial Other Registratio...   \n3             Commercial Multi-family Plumbing Only    \n4           Commercial Commercial Other Fire Repair    \n\n                                         GW_detailed  \\\n0    103 Apt - 2 units, Congregate Housing - 2 units   \n1  CENSUS CODE: 324 Admin Bldg, Dentist/Doctor Of...   \n2  CENSUS CODE: 320 Assembly Plant, Automotive Pl...   \n3    323 Adult Care Fac, Birth Ctr, Elderly Care Fac   \n4                       CENSUS CODE: O/S Fire Repair   \n\n                                      CB_Permit_Type  \n0              Building/Commercial/Retaining Wall/NA  \n1        Building/Residential/Accessory Structure/NA  \n2                 Building/Residential/Renovation/NA  \n3  Building/Commercial/Sign/Semi-Permanent Direct...  \n4                                  SIGNS - Permanent  ",
      "text/html": "<div>\n<style scoped>\n    .dataframe tbody tr th:only-of-type {\n        vertical-align: middle;\n    }\n\n    .dataframe tbody tr th {\n        vertical-align: top;\n    }\n\n    .dataframe thead th {\n        text-align: right;\n    }\n</style>\n<table border=\"1\" class=\"dataframe\">\n  <thead>\n    <tr style=\"text-align: right;\">\n      <th></th>\n      <th>coa_permit_type</th>\n      <th>clay_TYPE_CLASS</th>\n      <th>DK_property_work_type</th>\n      <th>GW_USE_TYPE</th>\n      <th>GW_detailed</th>\n      <th>CB_Permit_Type</th>\n    </tr>\n  </thead>\n  <tbody>\n    <tr>\n      <th>0</th>\n      <td>CommercialQCR</td>\n      <td>Electrical Residential Stand Alone</td>\n      <td>Non-Residential Special Admin Permit 14 days</td>\n      <td>Residential Sign Complete Structure</td>\n      <td>103 Apt - 2 units, Congregate Housing - 2 units</td>\n      <td>Building/Commercial/Retaining Wall/NA</td>\n    </tr>\n    <tr>\n      <th>1</th>\n      <td>MultiFamilyNew</td>\n      <td>Building (Commercial) Office/Institutional</td>\n      <td>Residential Residential Gas Line</td>\n      <td>Residential Duplex Electrical Only</td>\n      <td>CENSUS CODE: 324 Admin Bldg, Dentist/Doctor Of...</td>\n      <td>Building/Residential/Accessory Structure/NA</td>\n    </tr>\n    <tr>\n      <th>2</th>\n      <td>ResidentialAlteration</td>\n      <td>Electrical Reconnect_Disconnect Only</td>\n      <td>Non-Residential Plumbing Water Heater</td>\n      <td>Online Permitting Commercial Other Registratio...</td>\n      <td>CENSUS CODE: 320 Assembly Plant, Automotive Pl...</td>\n      <td>Building/Residential/Renovation/NA</td>\n    </tr>\n    <tr>\n      <th>3</th>\n      <td>CommercialLandDevelopment</td>\n      <td>Electrical Power Reconnect - DELETE</td>\n      <td>Residential Plumbing Supply Line</td>\n      <td>Commercial Multi-family Plumbing Only</td>\n      <td>323 Adult Care Fac, Birth Ctr, Elderly Care Fac</td>\n      <td>Building/Commercial/Sign/Semi-Permanent Direct...</td>\n    </tr>\n    <tr>\n      <th>4</th>\n      <td>ResidentialLandSubdivision</td>\n      <td>Building (Residential) New Apartment</td>\n      <td>Non-Residential Electrical Inspection Only</td>\n      <td>Commercial Commercial Other Fire Repair</td>\n      <td>CENSUS CODE: O/S Fire Repair</td>\n      <td>SIGNS - Permanent</td>\n    </tr>\n  </tbody>\n</table>\n</div>"
     },
     "execution_count": 40,
     "metadata": {},
     "output_type": "execute_result"
    }
   ],
   "source": [
    "merged_unique.head()"
   ],
   "metadata": {
    "collapsed": false,
    "ExecuteTime": {
     "end_time": "2023-07-18T09:37:12.526523300Z",
     "start_time": "2023-07-18T09:37:12.517503900Z"
    }
   }
  },
  {
   "cell_type": "code",
   "execution_count": 41,
   "outputs": [],
   "source": [
    "merged_unique.to_csv('merged_unique.csv')"
   ],
   "metadata": {
    "collapsed": false,
    "ExecuteTime": {
     "end_time": "2023-07-18T09:37:13.765682Z",
     "start_time": "2023-07-18T09:37:13.753668600Z"
    }
   }
  },
  {
   "cell_type": "code",
   "execution_count": null,
   "outputs": [],
   "source": [],
   "metadata": {
    "collapsed": false
   }
  }
 ],
 "metadata": {
  "kernelspec": {
   "display_name": "Python 3",
   "language": "python",
   "name": "python3"
  },
  "language_info": {
   "codemirror_mode": {
    "name": "ipython",
    "version": 2
   },
   "file_extension": ".py",
   "mimetype": "text/x-python",
   "name": "python",
   "nbconvert_exporter": "python",
   "pygments_lexer": "ipython2",
   "version": "2.7.6"
  }
 },
 "nbformat": 4,
 "nbformat_minor": 0
}
