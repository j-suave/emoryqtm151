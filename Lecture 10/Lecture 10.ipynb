{
 "cells": [
  {
   "attachments": {},
   "cell_type": "markdown",
   "metadata": {},
   "source": [
    "# <span style=\"color:darkblue\"> Lecture 10: Subsetting Data </span>\n",
    "\n",
    "<font size = \"5\">\n",
    "\n",
    "In the previous lecture we ...\n",
    "\n",
    "- Worked through the definition of functions\n",
    "- Illustrated some examples\n",
    "\n",
    "In this lecture, we will ...\n",
    "\n",
    "- Discuss the syntax of functions (local/global)\n",
    "- Apply functions to multiple elements in a data frame\n",
    "- Introduce \".py\" files"
   ]
  },
  {
   "attachments": {},
   "cell_type": "markdown",
   "metadata": {},
   "source": [
    "## <span style=\"color:darkblue\"> I. Import Libraries and Read Files</span>"
   ]
  },
  {
   "cell_type": "code",
   "execution_count": 85,
   "metadata": {},
   "outputs": [],
   "source": [
    "# the \"pandas\" library is for manipualting datasets\n",
    "import pandas as pd\n",
    "import matplotlib.pyplot as plt"
   ]
  },
  {
   "cell_type": "code",
   "execution_count": 86,
   "metadata": {},
   "outputs": [],
   "source": [
    "# Read the car features dataset\n",
    "carfeatures = pd.read_csv(\"data_raw/features.csv\")"
   ]
  },
  {
   "attachments": {},
   "cell_type": "markdown",
   "metadata": {},
   "source": [
    "## <span style=\"color:darkblue\"> II. Basic data display </span>\n",
    "\n",
    "<font size = \"5\">"
   ]
  },
  {
   "attachments": {},
   "cell_type": "markdown",
   "metadata": {},
   "source": [
    "<font size = \"5\">\n",
    "\n",
    "Display a dataset\n",
    "\n",
    "- Remember that in VS-Code there is also a data viewer.\n",
    "- Go to the variables tab at the top of the notebook"
   ]
  },
  {
   "cell_type": "code",
   "execution_count": null,
   "metadata": {},
   "outputs": [],
   "source": [
    "# The display() command will show the first 5 rows and the last five rows\n",
    "\n",
    "display(carfeatures)"
   ]
  },
  {
   "attachments": {},
   "cell_type": "markdown",
   "metadata": {},
   "source": [
    "<font size = \"5\" >\n",
    "\n",
    "Extract column names"
   ]
  },
  {
   "cell_type": "code",
   "execution_count": null,
   "metadata": {},
   "outputs": [],
   "source": [
    "# Write the name of the dataset and use a period \".\" to extract \n",
    "# the attribute \"columns\" and the subttribute \"values\"\n",
    "\n",
    "car_colnames = carfeatures.columns.values\n",
    "print(car_colnames)"
   ]
  },
  {
   "attachments": {},
   "cell_type": "markdown",
   "metadata": {},
   "source": [
    "<font size = \"5\">\n",
    "\n",
    "Subset columns:\n",
    "\n",
    "```python\n",
    "data[list_names]\n",
    "```"
   ]
  },
  {
   "cell_type": "code",
   "execution_count": null,
   "metadata": {},
   "outputs": [],
   "source": [
    "# To subset multiple columns write the name of the datasets \n",
    "# and enter a list in square brackets next to the name\n",
    "\n",
    "list_subsetcols     = [\"weight\",\"mpg\"]\n",
    "subcols_carfeatures = carfeatures[list_subsetcols]\n",
    "display(subcols_carfeatures)\n",
    "\n",
    "# Or we can simply include the list directly inside square brackets\n",
    "display(carfeatures[[\"weight\",\"mpg\"]])\n"
   ]
  },
  {
   "attachments": {},
   "cell_type": "markdown",
   "metadata": {},
   "source": [
    "<font size = \"5\">\n",
    "\n",
    "Try it yourself!\n",
    "\n",
    "- Extract the weight and acceleration variables"
   ]
  },
  {
   "cell_type": "code",
   "execution_count": null,
   "metadata": {},
   "outputs": [],
   "source": [
    "# Write your own code\n",
    "\n",
    "display(carfeatures[[\"weight\", \"mpg\"]])\n"
   ]
  },
  {
   "attachments": {},
   "cell_type": "markdown",
   "metadata": {},
   "source": [
    "## <span style=\"color:darkblue\"> III. Subsetting by row/column position </span>\n",
    "\n",
    "<font size = \"5\">"
   ]
  },
  {
   "attachments": {},
   "cell_type": "markdown",
   "metadata": {},
   "source": [
    "<font size = \"5\">\n",
    "\n",
    "Sort by column"
   ]
  },
  {
   "cell_type": "code",
   "execution_count": null,
   "metadata": {},
   "outputs": [],
   "source": [
    "carsorted = carfeatures.sort_values(by = \"mpg\", ascending = False)\n",
    "display(carsorted)"
   ]
  },
  {
   "attachments": {},
   "cell_type": "markdown",
   "metadata": {},
   "source": [
    "<font size = \"5\">\n",
    "\n",
    "Subset row(s)\n",
    "\n",
    "``` data.iloc[ row_int , : ]``` $\\quad$ or\n",
    "\n",
    "``` data.iloc[ list_rows, : ]```\n"
   ]
  },
  {
   "cell_type": "code",
   "execution_count": null,
   "metadata": {},
   "outputs": [],
   "source": [
    "# The following command extracts all columns for row zero\n",
    "# Remember that numbering starts at zero in Python\n",
    "# In this case we will show the car with the highest \"mpg\" value\n",
    "\n",
    "display(carsorted.iloc[0,:])\n",
    "display(carsorted.iloc[[0,1,2],:])\n"
   ]
  },
  {
   "attachments": {},
   "cell_type": "markdown",
   "metadata": {},
   "source": [
    "<font size = \"5\">\n",
    "\n",
    "Subset block of rows\n",
    "\n",
    "``` data.iloc[ lower:upper , : ]```"
   ]
  },
  {
   "cell_type": "code",
   "execution_count": null,
   "metadata": {},
   "outputs": [],
   "source": [
    "# Extract rows 0 to 5\n",
    "display(carfeatures.iloc[0:5,:])\n",
    "\n",
    "# Extract rows 8 onwards\n",
    "display(carfeatures.iloc[ 8:, : ])\n",
    "\n",
    "# Note: We can leave the numbers to the left and right of \":\" blank\n",
    "# in order to select all values before or after, respectively.\n"
   ]
  },
  {
   "attachments": {},
   "cell_type": "markdown",
   "metadata": {},
   "source": [
    "<font size = \"5\">\n",
    "\n",
    "Similar for columns\n",
    "\n",
    "- One column: $\\quad$    ``` data.iloc[ : , col_integer ]```\n",
    "- Multiple columns: $\\quad$   ``` data.iloc[ : , list_cols ]```\n",
    "- Row+Column: $\\quad$ ``` data.iloc[ list_rows , list_cols ]```"
   ]
  },
  {
   "attachments": {},
   "cell_type": "markdown",
   "metadata": {},
   "source": [
    "<font size = \"5\">\n",
    "\n",
    "Try it yourself!!\n",
    "\n",
    "- Create a new datate called \"car_ascendingmpg\" which <br>\n",
    "sorts cars from lowest to highest mpg\n",
    "- Subset the data of 5 cars with the lowest \"mpg\"\n",
    "\n",
    "HINT: Use ``sort_values(...,ascending = TRUE``)\n"
   ]
  },
  {
   "cell_type": "code",
   "execution_count": null,
   "metadata": {},
   "outputs": [],
   "source": [
    "# Write your own code\n",
    "\n",
    "car_ascendingmpg = carfeatures.sort_values(by = \"mpg\", ascending = True)\n",
    "\n",
    "display(car_ascendingmpg.iloc[0:5:, 0:1])\n",
    "# make sure to put car_ascencingmpg and not carfeatures to maintain ascending order of mpg\n"
   ]
  },
  {
   "attachments": {},
   "cell_type": "markdown",
   "metadata": {},
   "source": [
    "## <span style=\"color:darkblue\"> II. Queries </span>\n",
    "\n",
    "<font size = \"5\">\n",
    "Filter the data based on its content <br>\n",
    "\n",
    "```python\n",
    "data.query(\"logical expression\")\n",
    "```"
   ]
  },
  {
   "attachments": {},
   "cell_type": "markdown",
   "metadata": {},
   "source": [
    "<font size = \"5\">\n",
    "\n",
    "(i) Expressions with colnames"
   ]
  },
  {
   "cell_type": "code",
   "execution_count": null,
   "metadata": {},
   "outputs": [],
   "source": [
    "# Enter any logical expression\n",
    "\n",
    "data_threshold_mpg  = carfeatures.query(\"mpg >= 25\")\n",
    "data_rangeacceleration    = carfeatures.query(\"(acceleration >= 10) & (acceleration < 18)\")\n"
   ]
  },
  {
   "attachments": {},
   "cell_type": "markdown",
   "metadata": {},
   "source": [
    "<font size = \"5\">\n",
    "\n",
    "(ii) Expressions with colnames + global variables (@)"
   ]
  },
  {
   "cell_type": "code",
   "execution_count": null,
   "metadata": {},
   "outputs": [],
   "source": [
    "# You can invoke global variables into the query by using @variablename\n",
    "# If you don't include @, then Python will try to look for a column with \n",
    "# that name.\n",
    "\n",
    "threshold = 25\n",
    "data_varthreshold_mpg = carfeatures.query(\"mpg >= @threshold\")"
   ]
  },
  {
   "attachments": {},
   "cell_type": "markdown",
   "metadata": {},
   "source": [
    "<font size = \"5\">\n",
    "\n",
    "(iii) Expressions with colnames with spaces"
   ]
  },
  {
   "cell_type": "code",
   "execution_count": null,
   "metadata": {},
   "outputs": [],
   "source": [
    "# Sometimes column names have spaces in them\n",
    "# In this case use the \"`\" symbol, e.g.          `variable name`\n",
    "\n",
    "carfeatures[\"new variable\"] = carfeatures[\"mpg\"]\n",
    "data_spacesthreshold_mpg = carfeatures.query(\"`new variable` >= 25\")\n"
   ]
  },
  {
   "attachments": {},
   "cell_type": "markdown",
   "metadata": {},
   "source": [
    "<font size = \"5\">\n",
    "\n",
    "Try it yourself!\n",
    "\n",
    "-  Subset the data with mpg $\\ge$ 25 and cylinders == 8"
   ]
  },
  {
   "cell_type": "code",
   "execution_count": null,
   "metadata": {},
   "outputs": [],
   "source": [
    "# Write your own code here\n",
    "\n",
    "data_mpg_cyl = carfeatures.query(\"(mpg >= 25) & (cylinders == 8)\")\n",
    "\n",
    "display(data_mpg_cyl)\n"
   ]
  },
  {
   "cell_type": "code",
   "execution_count": null,
   "metadata": {},
   "outputs": [],
   "source": [
    "# when using global variables\n",
    "\n",
    "mean_mpg = carfeatures[\"mpg\"].mean()\n",
    "carfeatures.query(\"mpg >= @mean_mpg\")\n"
   ]
  },
  {
   "attachments": {},
   "cell_type": "markdown",
   "metadata": {},
   "source": [
    "## <span style=\"color:darkblue\"> III. Visualization for Subsets of the Data </span>\n"
   ]
  },
  {
   "attachments": {},
   "cell_type": "markdown",
   "metadata": {},
   "source": [
    "<font size = \"5\">\n",
    "\n",
    "List of unique categories"
   ]
  },
  {
   "cell_type": "code",
   "execution_count": null,
   "metadata": {},
   "outputs": [],
   "source": [
    "# Use pd.unique() to extract a list with the unique elements in that column\n",
    "\n",
    "list_unique_cylinders = pd.unique(carfeatures[\"cylinders\"])\n",
    "print(list_unique_cylinders)"
   ]
  },
  {
   "attachments": {},
   "cell_type": "markdown",
   "metadata": {},
   "source": [
    "<font size = \"5\">\n",
    "\n",
    "Compute two overlapping plots"
   ]
  },
  {
   "cell_type": "code",
   "execution_count": 87,
   "metadata": {},
   "outputs": [
    {
     "data": {
      "image/png": "[encoded data removed]",
      "text/plain": [
       "<Figure size 640x480 with 1 Axes>"
      ]
     },
     "metadata": {},
     "output_type": "display_data"
    }
   ],
   "source": [
    "# If we call plt.scatter() twice to display two plots\n",
    "# To display all plots simultaneously we include plt.show() at the very end.\n",
    "# The idea is that the graphs are stacked on top of each other\n",
    "\n",
    "df_8 = carfeatures.query(\"cylinders == 8\")\n",
    "df_4 = carfeatures.query(\"cylinders == 4\")\n",
    "\n",
    "plt.scatter(x = df_8[\"weight\"],y = df_8[\"acceleration\"])\n",
    "plt.scatter(x = df_4[\"weight\"],y = df_4[\"acceleration\"])\n",
    "plt.xlabel(\"Weight\")\n",
    "plt.ylabel(\"Acceleration\")\n",
    "plt.legend(labels = [\"8\",\"4\"],\n",
    "           title  = \"Cylinders\")\n",
    "\n",
    "plt.show()\n",
    "\n",
    "# Note: If we put plt.show() in between the plots, then the results will\n",
    "# be shown on separate graphs instead.\n"
   ]
  },
  {
   "attachments": {},
   "cell_type": "markdown",
   "metadata": {},
   "source": [
    "<font size = \"5\">\n",
    "\n",
    "Compute plots by all categories"
   ]
  },
  {
   "cell_type": "code",
   "execution_count": null,
   "metadata": {},
   "outputs": [],
   "source": [
    "# Compute number of unique categories\n",
    "list_unique_cylinders = pd.unique(carfeatures[\"cylinders\"])\n",
    "\n",
    "# Use a for loop to plot a scatter plot between \"weight\" and \"acceleration\"\n",
    "# for each category. Each plot  will have a different color\n",
    "\n",
    "for category in list_unique_cylinders:\n",
    "    df   = carfeatures.query(\"cylinders == @category\")\n",
    "    plt.scatter(x = df[\"weight\"],y = df[\"acceleration\"])\n",
    "    \n",
    "# Add labels and a legends    \n",
    "plt.xlabel(\"Weight\")\n",
    "plt.ylabel(\"Acceleration\")\n",
    "plt.legend(labels = list_unique_cylinders,\n",
    "           title  = \"Cylinders\")\n",
    "plt.show()\n"
   ]
  },
  {
   "attachments": {},
   "cell_type": "markdown",
   "metadata": {},
   "source": [
    "<font size = \"5\">\n",
    "\n",
    "Try it yourself!\n",
    "\n",
    "- Compute a histogram of \"mpg\" by cylinder count\n",
    "- Make the histograms transparent by adjusting ```alpha``` in\n",
    "\n",
    " ```plt.hist(x = ..., alpha = 0.5)``` "
   ]
  },
  {
   "cell_type": "code",
   "execution_count": 89,
   "metadata": {},
   "outputs": [
    {
     "name": "stdout",
     "output_type": "stream",
     "text": [
      "8\n",
      "4\n",
      "6\n",
      "3\n",
      "5\n"
     ]
    },
    {
     "data": {
      "image/png": "[encoded data removed]",
      "text/plain": [
       "<Figure size 640x480 with 1 Axes>"
      ]
     },
     "metadata": {},
     "output_type": "display_data"
    }
   ],
   "source": [
    "# Write your own code\n",
    "\n",
    "list_unique_cylinders = pd.unique(carfeatures[\"cylinders\"])\n",
    "\n",
    "# Use a for loop to plot a scatter plot between \"weight\" and \"acceleration\"\n",
    "# for each category. Each plot  will have a different color\n",
    "\n",
    "for category in list_unique_cylinders:\n",
    "    print(category)\n",
    "    df   = carfeatures.query(\"cylinders == @category\")\n",
    "    plt.hist(x = df[\"mpg\"], alpha = .5)\n",
    "    \n",
    "# Add labels and a legends    \n",
    "plt.xlabel(\"MPG\")\n",
    "plt.ylabel(\"Acceleration\")\n",
    "plt.legend(labels = list_unique_cylinders,\n",
    "           title  = \"Cylinders\")\n",
    "plt.show()\n"
   ]
  }
 ],
 "metadata": {
  "kernelspec": {
   "display_name": "base",
   "language": "python",
   "name": "python3"
  },
  "language_info": {
   "codemirror_mode": {
    "name": "ipython",
    "version": 3
   },
   "file_extension": ".py",
   "mimetype": "text/x-python",
   "name": "python",
   "nbconvert_exporter": "python",
   "pygments_lexer": "ipython3",
   "version": "3.9.13"
  },
  "orig_nbformat": 4,
  "vscode": {
   "interpreter": {
    "hash": "833283965988f4ccc9911a6c6cfe018c1905de821e65851f310de36fd64a7093"
   }
  }
 },
 "nbformat": 4,
 "nbformat_minor": 2
}
